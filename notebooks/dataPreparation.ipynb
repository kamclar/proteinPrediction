{
 "cells": [
  {
   "cell_type": "code",
   "execution_count": 655,
   "metadata": {},
   "outputs": [],
   "source": [
    "import re\n",
    "import os\n",
    "import glob\n",
    "import json\n",
    "from keras.preprocessing import sequence\n",
    "import numpy as np\n",
    "import keras\n",
    "#from keras.utils.np_utils import probas_to_classes"
   ]
  },
  {
   "cell_type": "code",
   "execution_count": 656,
   "metadata": {},
   "outputs": [],
   "source": [
    "%config IPCompleter.greedy=True"
   ]
  },
  {
   "cell_type": "code",
   "execution_count": 657,
   "metadata": {},
   "outputs": [
    {
     "name": "stdout",
     "output_type": "stream",
     "text": [
      "..\\data-scrapes\n"
     ]
    }
   ],
   "source": [
    "data = os.path.join('..', 'data-scrapes')\n",
    "print(data)"
   ]
  },
  {
   "cell_type": "code",
   "execution_count": 658,
   "metadata": {},
   "outputs": [],
   "source": [
    "import datetime, time\n",
    "cas = time.time()\n",
    "stamp = datetime.datetime.fromtimestamp(cas).strftime('%d-%m-%Y-%H-%M-%S')\n",
    "fileName = \"\"\n",
    "fileOut = os.path.join('..', 'dataChanged/' + fileName + '.txt')"
   ]
  },
  {
   "cell_type": "code",
   "execution_count": 659,
   "metadata": {},
   "outputs": [
    {
     "name": "stdout",
     "output_type": "stream",
     "text": [
      "['..\\\\data-scrapes\\\\all-human-0001-annotations.txt']\n"
     ]
    }
   ],
   "source": [
    "fastaFiles = glob.glob(data + \"/*.fasta\")\n",
    "annoFiles = glob.glob(data + \"/*.txt\")\n",
    "print(annoFiles)"
   ]
  },
  {
   "cell_type": "code",
   "execution_count": 660,
   "metadata": {},
   "outputs": [],
   "source": [
    "def sortuj(_proteinID, _seq, _fileName):\n",
    "    fileOut = os.path.join('..', 'dataChanged/' + _fileName + '.txt')\n",
    "    with open(fileOut, \"a\") as f:\n",
    "        f.write(_proteinID +\", \" + _seq + '\\n')"
   ]
  },
  {
   "cell_type": "code",
   "execution_count": 661,
   "metadata": {},
   "outputs": [
    {
     "name": "stdout",
     "output_type": "stream",
     "text": [
      "Converting: ..\\data-scrapes\\all-human-0001.fasta \n"
     ]
    }
   ],
   "source": [
    "for soubor in fastaFiles:\n",
    "    print(\"Converting: %s \" % soubor)\n",
    "    counter = 0\n",
    "    seq = ''\n",
    "    proteinID = ''\n",
    "\n",
    "    with open(soubor, \"r\") as f:        \n",
    "        for line in f:\n",
    "            if line.startswith(\">\"):                \n",
    "                counter += 1\n",
    "                proteinID = line.split(\"|\")[1]\n",
    "                if seq != '':\n",
    "                    #print(proteinID)\n",
    "                    sortuj(proteinID, seq, \"proteinIDandSeq\")\n",
    "                    seq = ''\n",
    "                if counter > 10: break\n",
    "            else:\n",
    "                seq += line.strip()\n",
    "            \n",
    "        if seq != '':\n",
    "                    print(proteinID)\n",
    "                    sortuj(proteinID, seq, \"proteinIDandSeq\")\n",
    "                    seq = ''\n",
    "            "
   ]
  },
  {
   "cell_type": "code",
   "execution_count": 662,
   "metadata": {},
   "outputs": [
    {
     "name": "stdout",
     "output_type": "stream",
     "text": [
      "Converting: ..\\data-scrapes\\all-human-0001-annotations.txt \n"
     ]
    }
   ],
   "source": [
    "fileName = 'selectedProteins'\n",
    "fileOut = os.path.join('..', 'dataChanged/' + fileName + '.txt')\n",
    "for soubor in annoFiles:\n",
    "    print(\"Converting: %s \" % soubor)\n",
    "    counter = 0\n",
    "    function = ''\n",
    "    proteinID = ''\n",
    "    gpcActivity = '0005524'\n",
    "    selectedProteins = []\n",
    "\n",
    "    with open(soubor, \"r\") as f:        \n",
    "        for line in f:\n",
    "            \n",
    "            proteinID = line.split(\" \")[0]\n",
    "            function = line.split(\":\")[1][:-3]\n",
    "            if function == gpcActivity:\n",
    "                selectedProteins.append(proteinID)\n",
    "    \n",
    "    with open(fileOut, \"w\") as f:\n",
    "        json.dump(selectedProteins, f)\n",
    "            "
   ]
  },
  {
   "cell_type": "code",
   "execution_count": 663,
   "metadata": {},
   "outputs": [],
   "source": [
    "seqFile = os.path.join('..', 'dataChanged', 'proteinIDandSeq.txt')\n",
    "selectedProtFile = os.path.join('..', 'dataChanged', 'selectedProteins.txt')"
   ]
  },
  {
   "cell_type": "code",
   "execution_count": 664,
   "metadata": {},
   "outputs": [],
   "source": [
    "with open(selectedProtFile, \"r\") as f:\n",
    "    selectedProteins = json.load(f)"
   ]
  },
  {
   "cell_type": "code",
   "execution_count": 665,
   "metadata": {},
   "outputs": [],
   "source": [
    "# moc jich delsich neni, delsi zahodim\n",
    "maxSeqLen = 500"
   ]
  },
  {
   "cell_type": "code",
   "execution_count": 666,
   "metadata": {},
   "outputs": [],
   "source": [
    "seq = []\n",
    "label = []\n"
   ]
  },
  {
   "cell_type": "code",
   "execution_count": 667,
   "metadata": {},
   "outputs": [],
   "source": [
    "# rozdeleni na dve tridy, ma GPC aktivitu = 1, a nema aktivitu = 0\n",
    "with open(seqFile, \"r\") as f:\n",
    "    for line in f:\n",
    "        splitted = line.split(\",\")\n",
    "        proteinID = splitted[0].strip()\n",
    "        sekvence = splitted[1].strip()\n",
    "        if len(sekvence) > maxSeqLen:\n",
    "            continue\n",
    "        seq.append(sekvence)\n",
    "        if proteinID in selectedProteins:\n",
    "            label.append(1)\n",
    "        else:\n",
    "            label.append(0)"
   ]
  },
  {
   "cell_type": "code",
   "execution_count": 668,
   "metadata": {},
   "outputs": [
    {
     "name": "stdout",
     "output_type": "stream",
     "text": [
      "[1, 0, 1, 1, 0, 0]\n"
     ]
    }
   ],
   "source": [
    "print(label)"
   ]
  },
  {
   "cell_type": "code",
   "execution_count": 669,
   "metadata": {},
   "outputs": [],
   "source": [
    "# zamena pismen za vektor cisel\n",
    "def pismena2cisla(_sekvence):\n",
    "    vektor = []\n",
    "    alphabet = ['_', 'A', 'C', 'D', 'E', 'F', 'G', 'H', 'I', 'K', 'L', 'M', 'N', 'P', 'Q', 'R', 'S', 'T', 'U', 'V', 'W', 'X', 'Y']\n",
    "    \n",
    "    try:\n",
    "        for letter in _sekvence:\n",
    "            index = alphabet.index(letter)\n",
    "            vektor.append(index)\n",
    "        return vektor\n",
    "    except:\n",
    "        print(\"error: something is wrong\")\n",
    "    "
   ]
  },
  {
   "cell_type": "code",
   "execution_count": 670,
   "metadata": {},
   "outputs": [
    {
     "name": "stdout",
     "output_type": "stream",
     "text": [
      "error: something is wrong\n"
     ]
    }
   ],
   "source": [
    "pismena2cisla('OLE')"
   ]
  },
  {
   "cell_type": "code",
   "execution_count": 671,
   "metadata": {},
   "outputs": [
    {
     "data": {
      "text/plain": [
       "int"
      ]
     },
     "execution_count": 671,
     "metadata": {},
     "output_type": "execute_result"
    }
   ],
   "source": [
    "seqVektor = []\n",
    "for i in range(len(seq)):\n",
    "    vektor = pismena2cisla(seq[i])\n",
    "    seqVektor.append(vektor)\n",
    "type(seqVektor[0][0])"
   ]
  },
  {
   "cell_type": "code",
   "execution_count": 672,
   "metadata": {},
   "outputs": [
    {
     "name": "stdout",
     "output_type": "stream",
     "text": [
      "<class 'int'>\n",
      "[list([11, 1, 1, 1, 1, 1, 14, 6, 6, 6, 6, 6, 4, 13, 15, 15, 17, 4, 6, 19, 6, 13, 6, 19, 13, 6, 4, 19, 4, 11, 19, 9, 6, 14, 13, 5, 3, 19, 6, 13, 15, 22, 17, 14, 10, 14, 22, 8, 6, 4, 6, 1, 22, 6, 11, 19, 16, 16, 1, 22, 3, 7, 19, 15, 9, 17, 15, 19, 1, 8, 9, 9, 8, 16, 13, 5, 4, 7, 14, 17, 22, 2, 14, 15, 17, 10, 15, 4, 8, 14, 8, 10, 10, 15, 5, 15, 7, 4, 12, 19, 8, 6, 8, 15, 3, 8, 10, 15, 1, 16, 17, 10, 4, 1, 11, 15, 3, 19, 22, 8, 19, 14, 3, 10, 11, 4, 17, 3, 10, 22, 9, 10, 10, 9, 16, 14, 14, 10, 16, 12, 3, 7, 8, 2, 22, 5, 10, 22, 14, 8, 10, 15, 6, 10, 9, 22, 8, 7, 16, 1, 12, 19, 10, 7, 15, 3, 10, 9, 13, 16, 12, 10, 10, 8, 12, 17, 17, 2, 3, 10, 9, 8, 2, 3, 5, 6, 10, 1, 15, 8, 1, 3, 13, 4, 7, 3, 7, 17, 6, 5, 10, 17, 4, 22, 19, 1, 17, 15, 20, 22, 15, 1, 13, 4, 8, 11, 10, 12, 16, 9, 6, 22, 17, 9, 16, 8, 3, 8, 20, 16, 19, 6, 2, 8, 10, 1, 4, 11, 10, 16, 12, 15, 13, 8, 5, 13, 6, 9, 7, 22, 10, 3, 14, 10, 12, 7, 8, 10, 6, 8, 10, 6, 16, 13, 16, 14, 4, 3, 10, 12, 2, 8, 8, 12, 11, 9, 1, 15, 12, 22, 10, 14, 16, 10, 13, 16, 9, 17, 9, 19, 1, 20, 1, 9, 10, 5, 13, 9, 16, 3, 16, 9, 1, 10, 3, 10, 10, 3, 15, 11, 10, 17, 5, 12, 13, 12, 9, 15, 8, 17, 19, 4, 4, 1, 10, 1, 7, 13, 22, 10, 4, 14, 22, 22, 3, 13, 17, 3, 4, 13, 19, 1, 4, 4, 13, 5, 17, 5, 1, 11, 4, 10, 3, 3, 10, 13, 9, 4, 15, 10, 9, 4, 10, 8, 5, 14, 4, 17, 1, 15, 5, 14, 13, 6, 19, 10, 4, 1, 13])\n",
      " list([11, 16, 10, 7, 5, 10, 22, 22, 2, 16, 4, 13, 17, 10, 3, 19, 9, 8, 1, 5, 2, 14, 6, 5, 3, 9, 14, 19, 3, 19, 16, 22, 8, 1, 9, 7, 22, 12, 11, 16, 9, 16, 9, 19, 3, 12, 14, 5, 22, 16, 19, 4, 19, 6, 3, 16, 17, 5, 17, 19, 10, 9, 15, 22, 14, 12, 10, 9, 13, 8, 6, 16, 6, 1, 14, 6, 8, 19, 2, 1, 1, 22, 3, 1, 19, 10, 3, 15, 12, 19, 1, 8, 9, 9, 10, 16, 15, 13, 5, 14, 12, 14, 17, 7, 1, 9, 15, 1, 22, 15, 4, 10, 19, 10, 11, 9, 2, 19, 12, 7, 9, 12, 8, 8, 16, 10, 10, 12, 19, 5, 17, 13, 14, 9, 17, 10, 4, 4, 5, 14, 3, 19, 22, 10, 19, 11, 4, 10, 11, 3, 1, 12, 10, 2, 14, 19, 8, 14, 11, 4, 10, 3, 7, 4, 15, 11, 16, 22, 10, 10, 22, 14, 11, 10, 2, 6, 8, 9, 7, 10, 7, 16, 1, 6, 8, 8, 7, 15, 3, 10, 9, 13, 16, 12, 8, 19, 19, 9, 16, 3, 2, 17, 10, 9, 8, 10, 3, 5, 6, 10, 1, 15, 17, 1, 6, 17, 16, 5, 11, 11, 17, 13, 22, 19, 19, 17, 15, 22, 22, 15, 1, 13, 4, 19, 8, 10, 6, 11, 6, 22, 9, 4, 12, 19, 3, 8, 20, 16, 19, 6, 2, 8, 11, 6, 4, 11, 19, 15, 7, 9, 8, 10, 5, 13, 6, 15, 3, 22, 8, 3, 14, 20, 12, 9, 19, 8, 4, 14, 10, 6, 17, 13, 2, 13, 4, 5, 11, 9, 9, 10, 14, 13, 17, 19, 15, 12, 22, 19, 4, 12, 15, 13, 9, 22, 1, 6, 10, 17, 5, 13, 9, 10, 5, 13, 3, 16, 10, 5, 13, 1, 3, 16, 4, 7, 12, 9, 10, 9, 1, 16, 14, 1, 15, 3, 10, 10, 16, 9, 11, 10, 19, 8, 3, 13, 1, 9, 15, 8, 16, 19, 3, 3, 1, 10, 14, 7, 13, 22, 8, 12, 19, 20, 22, 3, 13, 1, 4, 19, 4, 1, 13, 13, 13, 14, 8, 22, 3, 9, 14, 10, 3, 4, 15, 4, 7, 17, 8, 4, 4, 20, 9, 4, 10, 8, 22, 9, 4, 19, 11, 12, 16, 4, 4, 9, 17, 9, 12, 6, 19, 19, 9, 6, 14, 13, 16, 13, 16, 6, 1, 1, 19, 12, 16, 16, 4, 16, 10, 13, 13, 16, 16, 16, 19, 12, 3, 8, 16, 16, 11, 16, 17, 3, 14, 17, 10, 1, 16, 3, 17, 3, 16, 16, 10, 4, 1, 16, 1, 6, 13, 10, 6, 2, 2, 15])\n",
      " list([11, 17, 14, 4, 13, 5, 15, 4, 4, 10, 1, 22, 3, 15, 11, 13, 17, 10, 4, 15, 6, 15, 14, 3, 13, 1, 16, 22, 1, 13, 3, 1, 9, 13, 16, 3, 10, 14, 10, 16, 9, 15, 10, 13, 13, 2, 5, 16, 7, 9, 17, 20, 19, 5, 16, 19, 10, 11, 6, 16, 2, 10, 10, 19, 17, 16, 6, 5, 16, 10, 22, 10, 6, 12, 19, 5, 13, 1, 4, 11, 3, 22, 10, 15, 2, 1, 1, 6, 16, 2, 8, 13, 16, 1, 8, 19, 16, 5, 17, 19, 16, 15, 15, 12, 1, 12, 19, 8, 13, 12, 5, 14, 8, 10, 5, 19, 16, 17, 5, 1, 19, 17, 17, 17, 2, 10, 8, 20, 5, 6, 2, 9, 10, 19, 10, 12, 13, 16, 1, 8, 12, 8, 12, 5, 12, 10, 8, 10, 10, 10, 10, 10, 4, 10, 10, 11, 1, 1, 17, 19, 8, 8, 1, 1, 15, 16, 16, 4, 4, 3, 2, 9, 9, 9, 9, 6, 16, 11, 16, 3, 16, 1, 12, 8, 10, 3, 4, 19, 13, 5, 13, 1, 15, 19, 10, 9, 16, 22, 16, 19, 19, 4, 19, 8, 1, 6, 8, 16, 1, 19, 10, 6, 6, 8, 8, 1, 10, 12, 19, 3, 3, 16, 19, 16, 6, 13, 7, 10, 16, 19, 17, 5, 5, 20, 8, 10, 19, 1, 2, 5, 13, 16, 1, 8, 1, 16, 7, 19, 1, 1, 4, 2, 13, 16, 9, 2, 10, 19, 4, 19, 10, 8, 1, 8, 16, 16, 10, 17, 16, 13, 10, 10, 5, 17, 1, 16, 6, 22, 10, 16, 5, 16, 8, 11, 15, 8, 19, 4, 11, 5, 9, 3, 22, 13, 13, 1, 8, 9, 13, 16, 22, 3, 19, 10, 10, 10, 10, 10, 10, 10, 19, 10, 10, 10, 14, 1, 6, 10, 12, 17, 6, 17, 1, 8, 14, 2, 19, 15, 5, 9, 19, 16, 1, 15, 10, 14, 6, 1, 16, 20, 3, 17, 14, 12, 6, 13, 14, 4, 15, 10, 1, 6, 4, 19, 1, 15, 16, 13, 10, 9, 4, 5, 3, 9, 4, 9, 1, 20, 15, 1, 19, 19, 19, 14, 11, 1, 14])\n",
      " list([11, 17, 6, 9, 12, 20, 8, 10, 8, 16, 17, 17, 17, 13, 9, 16, 10, 4, 3, 4, 8, 19, 6, 15, 10, 10, 9, 8, 10, 5, 19, 8, 5, 19, 3, 10, 8, 16, 8, 8, 22, 19, 19, 8, 17, 16])\n",
      " list([11, 16, 5, 10, 5, 6, 16, 15, 16, 16, 9, 17, 5, 9, 13, 9, 9, 12, 8, 13, 4, 6, 16, 7, 14, 22, 4, 10, 10, 9, 7, 1, 4, 1, 17, 10, 6, 16, 6, 12, 10, 15, 11, 1, 19, 11, 10, 13, 4, 6, 4, 3, 10, 12, 4, 20, 19, 1, 19, 12, 17, 19, 3, 5, 5, 12, 14, 8, 12, 11, 10, 22, 6, 17, 8, 17, 3, 5, 2, 17, 4, 4, 16, 2, 13, 19, 11, 16, 1, 6, 13, 9, 22, 4, 22, 7, 20, 1, 3, 6, 17, 12, 8, 9, 9, 13, 8, 9, 2, 16, 1, 13, 9, 22, 8, 3, 22, 10, 11, 17, 20, 19, 14, 3, 14, 10, 3, 3, 4, 17, 10, 5, 13, 16, 9, 8, 6, 19, 13, 5, 13, 9, 12, 5, 11, 16, 19, 1, 9, 17, 8, 10, 9, 15, 10, 5, 15, 19, 22, 1, 7, 8, 22, 7, 14, 7, 5, 3, 13, 19, 8, 14, 10, 14, 4, 4, 1, 7, 10, 12, 17, 16, 5, 9, 7, 5, 8, 5, 5, 19, 14, 4, 5, 12, 10, 8, 3, 15, 15, 4, 10, 1, 13, 10, 14, 4, 10, 8, 4, 9, 10, 17, 16, 9, 3, 15])\n",
      " list([11, 16, 8, 1, 10, 9, 14, 19, 5, 12, 9, 3, 9, 17, 5, 15, 13, 9, 15, 9, 5, 4, 13, 6, 17, 14, 15, 5, 4, 10, 7, 9, 15, 1, 14, 1, 16, 10, 12, 16, 6, 19, 3, 10, 9, 1, 1, 19, 14, 10, 13, 16, 6, 4, 3, 14, 12, 3, 20, 19, 1, 19, 7, 19, 19, 3, 5, 5, 12, 15, 8, 12, 10, 8, 22, 6, 17, 8, 2, 4, 5, 2, 17, 4, 15, 17, 2, 13, 19, 11, 16, 6, 6, 13, 9, 22, 4, 22, 15, 20, 14, 3, 3, 10, 9, 22, 9, 9, 13, 17, 1, 10, 13, 1, 13, 14, 22, 11, 12, 10, 10, 11, 3, 20, 8, 4, 19, 14, 8, 12, 12, 4, 4, 8, 5, 13, 17, 2, 19, 6, 19, 13, 5, 13, 9, 12, 5, 10, 14, 8, 2, 9, 9, 8, 10, 2, 15, 10, 5, 15, 19, 5, 19, 7, 19, 22, 8, 7, 7, 5, 3, 15, 19, 8, 19, 11, 6, 1, 4, 1, 7, 19, 12, 17, 2, 22, 9, 7, 5, 22, 22, 5, 19, 17, 4, 11, 12, 10, 8, 3, 15, 9, 4, 10, 4, 13, 10, 9, 4, 11, 17, 16, 15, 11, 2, 7])]\n"
     ]
    }
   ],
   "source": [
    "seqVektor = np.array(seqVektor)\n",
    "label = np.array(label)\n",
    "print(type(seqVektor[0][1]))\n",
    "print(seqVektor)"
   ]
  },
  {
   "cell_type": "code",
   "execution_count": 673,
   "metadata": {},
   "outputs": [
    {
     "data": {
      "text/plain": [
       "array([ 0,  0,  0,  0,  0,  0,  0,  0,  0,  0,  0,  0,  0,  0,  0,  0,  0,\n",
       "        0,  0,  0,  0,  0,  0,  0,  0,  0,  0,  0,  0,  0,  0,  0,  0,  0,\n",
       "        0,  0,  0,  0,  0,  0,  0,  0,  0,  0,  0,  0,  0,  0,  0,  0,  0,\n",
       "        0,  0,  0,  0,  0,  0,  0,  0,  0,  0,  0,  0,  0,  0,  0,  0,  0,\n",
       "        0,  0,  0,  0,  0,  0,  0,  0,  0,  0,  0,  0,  0,  0,  0,  0,  0,\n",
       "        0,  0,  0,  0,  0,  0,  0,  0,  0,  0,  0,  0,  0,  0,  0,  0,  0,\n",
       "        0,  0,  0,  0,  0,  0,  0,  0,  0,  0,  0,  0,  0,  0,  0,  0,  0,\n",
       "        0,  0, 11,  1,  1,  1,  1,  1, 14,  6,  6,  6,  6,  6,  4, 13, 15,\n",
       "       15, 17,  4,  6, 19,  6, 13,  6, 19, 13,  6,  4, 19,  4, 11, 19,  9,\n",
       "        6, 14, 13,  5,  3, 19,  6, 13, 15, 22, 17, 14, 10, 14, 22,  8,  6,\n",
       "        4,  6,  1, 22,  6, 11, 19, 16, 16,  1, 22,  3,  7, 19, 15,  9, 17,\n",
       "       15, 19,  1,  8,  9,  9,  8, 16, 13,  5,  4,  7, 14, 17, 22,  2, 14,\n",
       "       15, 17, 10, 15,  4,  8, 14,  8, 10, 10, 15,  5, 15,  7,  4, 12, 19,\n",
       "        8,  6,  8, 15,  3,  8, 10, 15,  1, 16, 17, 10,  4,  1, 11, 15,  3,\n",
       "       19, 22,  8, 19, 14,  3, 10, 11,  4, 17,  3, 10, 22,  9, 10, 10,  9,\n",
       "       16, 14, 14, 10, 16, 12,  3,  7,  8,  2, 22,  5, 10, 22, 14,  8, 10,\n",
       "       15,  6, 10,  9, 22,  8,  7, 16,  1, 12, 19, 10,  7, 15,  3, 10,  9,\n",
       "       13, 16, 12, 10, 10,  8, 12, 17, 17,  2,  3, 10,  9,  8,  2,  3,  5,\n",
       "        6, 10,  1, 15,  8,  1,  3, 13,  4,  7,  3,  7, 17,  6,  5, 10, 17,\n",
       "        4, 22, 19,  1, 17, 15, 20, 22, 15,  1, 13,  4,  8, 11, 10, 12, 16,\n",
       "        9,  6, 22, 17,  9, 16,  8,  3,  8, 20, 16, 19,  6,  2,  8, 10,  1,\n",
       "        4, 11, 10, 16, 12, 15, 13,  8,  5, 13,  6,  9,  7, 22, 10,  3, 14,\n",
       "       10, 12,  7,  8, 10,  6,  8, 10,  6, 16, 13, 16, 14,  4,  3, 10, 12,\n",
       "        2,  8,  8, 12, 11,  9,  1, 15, 12, 22, 10, 14, 16, 10, 13, 16,  9,\n",
       "       17,  9, 19,  1, 20,  1,  9, 10,  5, 13,  9, 16,  3, 16,  9,  1, 10,\n",
       "        3, 10, 10,  3, 15, 11, 10, 17,  5, 12, 13, 12,  9, 15,  8, 17, 19,\n",
       "        4,  4,  1, 10,  1,  7, 13, 22, 10,  4, 14, 22, 22,  3, 13, 17,  3,\n",
       "        4, 13, 19,  1,  4,  4, 13,  5, 17,  5,  1, 11,  4, 10,  3,  3, 10,\n",
       "       13,  9,  4, 15, 10,  9,  4, 10,  8,  5, 14,  4, 17,  1, 15,  5, 14,\n",
       "       13,  6, 19, 10,  4,  1, 13])"
      ]
     },
     "execution_count": 673,
     "metadata": {},
     "output_type": "execute_result"
    }
   ],
   "source": [
    "# srovnani na stejnou delku, momentalne jsou sekvence(vektory), ruzne dlouhe\n",
    "seqVektor = sequence.pad_sequences(seqVektor, maxlen = maxSeqLen)\n",
    "seqVektor[0]"
   ]
  },
  {
   "cell_type": "code",
   "execution_count": 674,
   "metadata": {},
   "outputs": [
    {
     "name": "stdout",
     "output_type": "stream",
     "text": [
      "(6, 500)\n",
      "(6,)\n"
     ]
    }
   ],
   "source": [
    "print(seqVektor.shape)\n",
    "print(label.shape)"
   ]
  },
  {
   "cell_type": "code",
   "execution_count": 675,
   "metadata": {},
   "outputs": [],
   "source": [
    "# rozdeleni dat na trenovaci a testovaci 7:3, asi by se mela ta data jeste randomizovat\n",
    "seqVektorTrain = seqVektor[:int(len(label)*2/3)]\n",
    "labelTrain = label[:int(len(label)*2/3)]\n",
    "seqVektorTest = seqVektor[int(len(label)*2/3):]\n",
    "labelTest = label[int(len(label)*2/3):]"
   ]
  },
  {
   "cell_type": "code",
   "execution_count": 676,
   "metadata": {},
   "outputs": [
    {
     "name": "stdout",
     "output_type": "stream",
     "text": [
      "(4, 500)\n"
     ]
    }
   ],
   "source": [
    "print(seqVektorTrain.shape)"
   ]
  },
  {
   "cell_type": "code",
   "execution_count": 677,
   "metadata": {},
   "outputs": [],
   "source": [
    "from keras.layers import Embedding, Input, Dropout, Flatten, Dense, Activation\n",
    "from keras.models import Model, Sequential\n",
    "from keras.optimizers import SGD"
   ]
  },
  {
   "cell_type": "code",
   "execution_count": 721,
   "metadata": {},
   "outputs": [],
   "source": [
    "numAK = 23\n",
    "dims = 6\n",
    "batchSize = 2"
   ]
  },
  {
   "cell_type": "code",
   "execution_count": 722,
   "metadata": {},
   "outputs": [],
   "source": [
    "# pridavani layeru do modelu: https://keras.io/layers/embeddings/\n",
    "# https://towardsdatascience.com/deep-learning-4-embedding-layers-f9a02d55ac12\n",
    "# kazdy add prida dalsi layer\n",
    "model = Sequential()\n",
    "model.add(Embedding(numAK, dims, input_length = maxSeqLen))\n",
    "model.add(Flatten())\n",
    "model.add(Dense(25, activation = 'sigmoid'))\n",
    "model.add(Dense(1, activation = 'sigmoid'))"
   ]
  },
  {
   "cell_type": "code",
   "execution_count": 723,
   "metadata": {
    "scrolled": true
   },
   "outputs": [
    {
     "name": "stdout",
     "output_type": "stream",
     "text": [
      "_________________________________________________________________\n",
      "Layer (type)                 Output Shape              Param #   \n",
      "=================================================================\n",
      "embedding_25 (Embedding)     (None, 500, 6)            138       \n",
      "_________________________________________________________________\n",
      "flatten_21 (Flatten)         (None, 3000)              0         \n",
      "_________________________________________________________________\n",
      "dense_44 (Dense)             (None, 25)                75025     \n",
      "_________________________________________________________________\n",
      "dense_45 (Dense)             (None, 1)                 26        \n",
      "=================================================================\n",
      "Total params: 75,189\n",
      "Trainable params: 75,189\n",
      "Non-trainable params: 0\n",
      "_________________________________________________________________\n"
     ]
    }
   ],
   "source": [
    "model.summary()"
   ]
  },
  {
   "cell_type": "code",
   "execution_count": 724,
   "metadata": {},
   "outputs": [],
   "source": [
    "model.compile(loss='binary_crossentropy',\n",
    "              optimizer=SGD(),\n",
    "metrics=['accuracy'])"
   ]
  },
  {
   "cell_type": "code",
   "execution_count": 725,
   "metadata": {},
   "outputs": [
    {
     "name": "stdout",
     "output_type": "stream",
     "text": [
      "Train on 4 samples, validate on 2 samples\n",
      "Epoch 1/6\n",
      "4/4 [==============================] - 10s 2s/step - loss: 0.5796 - acc: 0.7500 - val_loss: 1.2139 - val_acc: 0.0000e+00\n",
      "Epoch 2/6\n",
      "4/4 [==============================] - 0s 18ms/step - loss: 0.5784 - acc: 0.7500 - val_loss: 1.2203 - val_acc: 0.0000e+00\n",
      "Epoch 3/6\n",
      "4/4 [==============================] - 0s 6ms/step - loss: 0.5773 - acc: 0.7500 - val_loss: 1.2261 - val_acc: 0.0000e+00\n",
      "Epoch 4/6\n",
      "4/4 [==============================] - 0s 13ms/step - loss: 0.5762 - acc: 0.7500 - val_loss: 1.2322 - val_acc: 0.0000e+00\n",
      "Epoch 5/6\n",
      "4/4 [==============================] - 0s 8ms/step - loss: 0.5752 - acc: 0.7500 - val_loss: 1.2377 - val_acc: 0.0000e+00\n",
      "Epoch 6/6\n",
      "4/4 [==============================] - 0s 1ms/step - loss: 0.5742 - acc: 0.7500 - val_loss: 1.2431 - val_acc: 0.0000e+00\n"
     ]
    }
   ],
   "source": [
    "hist = model.fit(seqVektorTrain, labelTrain,\n",
    "                  batch_size = batchSize,\n",
    "                  epochs = 6,                  \n",
    "                  verbose=1,\n",
    "                    validation_data = (seqVektorTest, labelTest))   "
   ]
  },
  {
   "cell_type": "code",
   "execution_count": 730,
   "metadata": {},
   "outputs": [
    {
     "name": "stdout",
     "output_type": "stream",
     "text": [
      "\r",
      "4/4 [==============================] - 0s 3ms/step\n"
     ]
    },
    {
     "data": {
      "text/plain": [
       "[0.5708752870559692, 0.75]"
      ]
     },
     "execution_count": 730,
     "metadata": {},
     "output_type": "execute_result"
    }
   ],
   "source": [
    "hist.model.evaluate(seqVekthist.model.metrics_namesorTrain, labelTrain)"
   ]
  },
  {
   "cell_type": "code",
   "execution_count": 731,
   "metadata": {},
   "outputs": [
    {
     "data": {
      "text/plain": [
       "['loss', 'acc']"
      ]
     },
     "execution_count": 731,
     "metadata": {},
     "output_type": "execute_result"
    }
   ],
   "source": [
    "hist.model.metrics_names"
   ]
  },
  {
   "cell_type": "code",
   "execution_count": 732,
   "metadata": {},
   "outputs": [],
   "source": [
    "#hist.model.get_weights()"
   ]
  },
  {
   "cell_type": "code",
   "execution_count": null,
   "metadata": {},
   "outputs": [],
   "source": []
  },
  {
   "cell_type": "code",
   "execution_count": 736,
   "metadata": {},
   "outputs": [
    {
     "name": "stdout",
     "output_type": "stream",
     "text": [
      "1\n"
     ]
    },
    {
     "data": {
      "text/plain": [
       "array([[0.70680565]], dtype=float32)"
      ]
     },
     "execution_count": 736,
     "metadata": {},
     "output_type": "execute_result"
    }
   ],
   "source": [
    "print(label[0])\n",
    "q = model.predict( np.array( [seqVektor[0],] ))\n",
    "q"
   ]
  },
  {
   "cell_type": "code",
   "execution_count": 734,
   "metadata": {},
   "outputs": [
    {
     "data": {
      "text/plain": [
       "array([[1],\n",
       "       [1],\n",
       "       [1],\n",
       "       [1],\n",
       "       [1],\n",
       "       [1]])"
      ]
     },
     "execution_count": 734,
     "metadata": {},
     "output_type": "execute_result"
    }
   ],
   "source": [
    "model.predict_classes(seqVektor)"
   ]
  },
  {
   "cell_type": "markdown",
   "metadata": {},
   "source": [
    "# tak to neni prilis dobra predikce "
   ]
  },
  {
   "cell_type": "code",
   "execution_count": 737,
   "metadata": {},
   "outputs": [],
   "source": [
    "# functional api je pry lepsi"
   ]
  },
  {
   "cell_type": "code",
   "execution_count": 738,
   "metadata": {},
   "outputs": [],
   "source": [
    "input = Input(shape=(maxSeqLen,))"
   ]
  },
  {
   "cell_type": "code",
   "execution_count": 739,
   "metadata": {},
   "outputs": [],
   "source": [
    "embedding = Embedding(23, dims)(input)"
   ]
  },
  {
   "cell_type": "code",
   "execution_count": 740,
   "metadata": {},
   "outputs": [],
   "source": [
    "x = Flatten()(embedding)\n",
    "x = Dense(25, activation='sigmoid')(x)\n",
    "x = Dense(1)(x)"
   ]
  },
  {
   "cell_type": "code",
   "execution_count": 741,
   "metadata": {},
   "outputs": [],
   "source": [
    "output = Activation('sigmoid')(x)"
   ]
  },
  {
   "cell_type": "code",
   "execution_count": 742,
   "metadata": {},
   "outputs": [
    {
     "name": "stdout",
     "output_type": "stream",
     "text": [
      "_________________________________________________________________\n",
      "Layer (type)                 Output Shape              Param #   \n",
      "=================================================================\n",
      "input_8 (InputLayer)         (None, 500)               0         \n",
      "_________________________________________________________________\n",
      "embedding_26 (Embedding)     (None, 500, 6)            138       \n",
      "_________________________________________________________________\n",
      "flatten_22 (Flatten)         (None, 3000)              0         \n",
      "_________________________________________________________________\n",
      "dense_46 (Dense)             (None, 25)                75025     \n",
      "_________________________________________________________________\n",
      "dense_47 (Dense)             (None, 1)                 26        \n",
      "_________________________________________________________________\n",
      "activation_8 (Activation)    (None, 1)                 0         \n",
      "=================================================================\n",
      "Total params: 75,189\n",
      "Trainable params: 75,189\n",
      "Non-trainable params: 0\n",
      "_________________________________________________________________\n"
     ]
    }
   ],
   "source": [
    "model2 = Model([input], output)\n",
    "model2.summary()"
   ]
  },
  {
   "cell_type": "code",
   "execution_count": 743,
   "metadata": {},
   "outputs": [],
   "source": [
    "model2.compile(loss='binary_crossentropy',\n",
    "              optimizer=SGD(),\n",
    "metrics=['accuracy'])"
   ]
  },
  {
   "cell_type": "code",
   "execution_count": 749,
   "metadata": {},
   "outputs": [
    {
     "name": "stdout",
     "output_type": "stream",
     "text": [
      "Train on 4 samples, validate on 2 samples\n",
      "Epoch 1/2\n",
      "4/4 [==============================] - 0s 68ms/step - loss: 0.8573 - acc: 0.2500 - val_loss: 0.4753 - val_acc: 1.0000\n",
      "Epoch 2/2\n",
      "4/4 [==============================] - 0s 6ms/step - loss: 0.8358 - acc: 0.2500 - val_loss: 0.4964 - val_acc: 1.0000\n"
     ]
    }
   ],
   "source": [
    "hist2 = model2.fit(seqVektorTrain, labelTrain,\n",
    "                  batch_size = batchSize,\n",
    "                  epochs = 2,                  \n",
    "                  verbose=1,\n",
    "                    validation_data = (seqVektorTest, labelTest))  "
   ]
  },
  {
   "cell_type": "code",
   "execution_count": 750,
   "metadata": {},
   "outputs": [
    {
     "name": "stdout",
     "output_type": "stream",
     "text": [
      "[1 0 1 1 0 0]\n"
     ]
    },
    {
     "data": {
      "text/plain": [
       "array([0, 0, 0, 0, 0, 0], dtype=int64)"
      ]
     },
     "execution_count": 750,
     "metadata": {},
     "output_type": "execute_result"
    }
   ],
   "source": [
    "#hist.history\n",
    "print(label)\n",
    "#model2.predict(seqVektor)\n",
    "#model2.predict( np.array( [seqVektor[0],] ))\n",
    "prob = model2.predict(seqVektor)\n",
    "#y_classes = keras.utils.np_utils.probas_to_classes(y_proba)\n",
    "predLabels = prob.argmax(axis=-1)\n",
    "predLabels"
   ]
  },
  {
   "cell_type": "code",
   "execution_count": 752,
   "metadata": {},
   "outputs": [
    {
     "data": {
      "text/plain": [
       "array([[0.3963757 ],\n",
       "       [0.38797292],\n",
       "       [0.39430186],\n",
       "       [0.39606562],\n",
       "       [0.392413  ],\n",
       "       [0.3901479 ]], dtype=float32)"
      ]
     },
     "execution_count": 752,
     "metadata": {},
     "output_type": "execute_result"
    }
   ],
   "source": [
    "hist2.model.predict(seqVektor)"
   ]
  },
  {
   "cell_type": "code",
   "execution_count": 758,
   "metadata": {},
   "outputs": [
    {
     "data": {
      "text/plain": [
       "1"
      ]
     },
     "execution_count": 758,
     "metadata": {},
     "output_type": "execute_result"
    }
   ],
   "source": [
    "len(hist2.model.output_layers)"
   ]
  },
  {
   "cell_type": "code",
   "execution_count": null,
   "metadata": {},
   "outputs": [],
   "source": []
  }
 ],
 "metadata": {
  "kernelspec": {
   "display_name": "Python 3",
   "language": "python",
   "name": "python3"
  },
  "language_info": {
   "codemirror_mode": {
    "name": "ipython",
    "version": 3
   },
   "file_extension": ".py",
   "mimetype": "text/x-python",
   "name": "python",
   "nbconvert_exporter": "python",
   "pygments_lexer": "ipython3",
   "version": "3.6.4"
  }
 },
 "nbformat": 4,
 "nbformat_minor": 2
}
